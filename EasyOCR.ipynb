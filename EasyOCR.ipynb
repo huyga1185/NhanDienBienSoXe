{
  "nbformat": 4,
  "nbformat_minor": 0,
  "metadata": {
    "colab": {
      "provenance": [],
      "gpuType": "T4",
      "authorship_tag": "ABX9TyPdKk6Eor181rKSeiWzIbHd",
      "include_colab_link": true
    },
    "kernelspec": {
      "name": "python3",
      "display_name": "Python 3"
    },
    "language_info": {
      "name": "python"
    },
    "accelerator": "GPU"
  },
  "cells": [
    {
      "cell_type": "markdown",
      "metadata": {
        "id": "view-in-github",
        "colab_type": "text"
      },
      "source": [
        "<a href=\"https://colab.research.google.com/github/huyga1185/NhanDienBienSoXe/blob/main/EasyOCR.ipynb\" target=\"_parent\"><img src=\"https://colab.research.google.com/assets/colab-badge.svg\" alt=\"Open In Colab\"/></a>"
      ]
    },
    {
      "cell_type": "markdown",
      "source": [
        "cai dat easy ocr"
      ],
      "metadata": {
        "id": "P8dU-2NTBAVY"
      }
    },
    {
      "cell_type": "code",
      "execution_count": null,
      "metadata": {
        "id": "WLpmhF7tA66J"
      },
      "outputs": [],
      "source": [
        "!pip install easyocr"
      ]
    },
    {
      "cell_type": "code",
      "source": [
        "import easyocr\n",
        "reader = easyocr.Reader(['en'])\n",
        "result = reader.readtext('bks1.jpeg')\n",
        "print(result)"
      ],
      "metadata": {
        "colab": {
          "base_uri": "https://localhost:8080/"
        },
        "id": "IYH4PXOWC8gD",
        "outputId": "aa95c6c1-4817-4e8a-de6a-0032e39d4589"
      },
      "execution_count": null,
      "outputs": [
        {
          "output_type": "stream",
          "name": "stdout",
          "text": [
            "[([[np.int32(24), 0], [np.int32(248), 0], [np.int32(248), np.int32(102)], [np.int32(24), np.int32(102)]], '99-H7', np.float64(0.8285739084178735)), ([[np.int32(28), np.int32(90)], [np.int32(244), np.int32(90)], [np.int32(244), 184], [np.int32(28), 184]], '7060', np.float64(0.741991788487967))]\n"
          ]
        }
      ]
    }
  ]
}